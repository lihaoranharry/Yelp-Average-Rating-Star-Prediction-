{
 "cells": [
  {
   "cell_type": "code",
   "execution_count": 1,
   "metadata": {
    "collapsed": false
   },
   "outputs": [],
   "source": [
    "import numpy as np\n",
    "import random\n",
    "import time\n",
    "import imp\n",
    "import json\n",
    "import sklearn as sk\n",
    "import random\n",
    "from random import seed\n",
    "from random import random\n",
    "from random import randrange\n",
    "from sklearn.feature_extraction.text import TfidfVectorizer, CountVectorizer\n",
    "from sklearn.decomposition import NMF, LatentDirichletAllocation\n",
    "import json\n",
    "import csv\n",
    "import unicodecsv\n",
    "import codecs\n",
    "from collections import defaultdict\n",
    "import sys\n",
    "import csv\n",
    "#imp.reload(sys)\n",
    "#sys.stdout = codecs.getwriter('utf-8')(sys.stdout)\n",
    "#sys.stderr = codecs.getwriter('utf-8')(sys.stderr)\n",
    "import pickle\n",
    "from collections import Counter\n",
    "import itertools\n",
    "import nltk\n",
    "import re\n",
    "from nltk.probability import *\n",
    "import pandas as pd"
   ]
  },
  {
   "cell_type": "markdown",
   "metadata": {},
   "source": [
    "## 1. Loading Data "
   ]
  },
  {
   "cell_type": "markdown",
   "metadata": {},
   "source": [
    "### a) yelp_academic_dataset_business_train.txt"
   ]
  },
  {
   "cell_type": "code",
   "execution_count": 315,
   "metadata": {
    "collapsed": false
   },
   "outputs": [],
   "source": [
    "business_train = []\n",
    "with open('/Users/chin/Yelp Reviews/data/yelp_academic_dataset_business_train.csv',encoding=\"utf8\") as f:\n",
    "    reader = csv.reader(f, delimiter=',')\n",
    "    for line in reader:\n",
    "        business_train.append(tuple(line))"
   ]
  },
  {
   "cell_type": "code",
   "execution_count": 316,
   "metadata": {
    "collapsed": false
   },
   "outputs": [
    {
     "data": {
      "text/plain": [
       "2511"
      ]
     },
     "execution_count": 316,
     "metadata": {},
     "output_type": "execute_result"
    }
   ],
   "source": [
    "len(business_train)\n"
   ]
  },
  {
   "cell_type": "code",
   "execution_count": 317,
   "metadata": {
    "collapsed": false
   },
   "outputs": [
    {
     "data": {
      "text/plain": [
       "True"
      ]
     },
     "execution_count": 317,
     "metadata": {},
     "output_type": "execute_result"
    }
   ],
   "source": [
    "len(business_train[0]) == len(business_train[1])"
   ]
  },
  {
   "cell_type": "code",
   "execution_count": 329,
   "metadata": {
    "collapsed": false
   },
   "outputs": [
    {
     "data": {
      "text/plain": [
       "('85',\n",
       " '',\n",
       " 'Ja4stXdNYr39u5CZHMNtjw',\n",
       " \"['Monday 11:0-23:0', 'Tuesday 11:0-0:0', 'Wednesday 11:0-23:0', 'Thursday 11:0-23:0', 'Friday 11:0-0:0', 'Saturday 11:0-0:0', 'Sunday 11:0-23:0']\",\n",
       " '1',\n",
       " '7228 E 1st Ave',\n",
       " '[\\'Alcohol: full_bar\\', \"Ambience: {\\'romantic\\': False, \\'intimate\\': False, \\'classy\\': False, \\'hipster\\': False, \\'divey\\': False, \\'touristy\\': False, \\'trendy\\': False, \\'upscale\\': False, \\'casual\\': True}\", \\'BYOB: False\\', \\'BYOBCorkage: no\\', \\'BikeParking: True\\', \\'BusinessAcceptsCreditCards: True\\', \"BusinessParking: {\\'garage\\': False, \\'street\\': True, \\'validated\\': False, \\'lot\\': False, \\'valet\\': False}\", \\'Caters: True\\', \\'GoodForKids: True\\', \"GoodForMeal: {\\'dessert\\': False, \\'latenight\\': False, \\'lunch\\': True, \\'dinner\\': True, \\'breakfast\\': False, \\'brunch\\': False}\", \\'HasTV: True\\', \\'NoiseLevel: average\\', \\'OutdoorSeating: True\\', \\'RestaurantsAttire: casual\\', \\'RestaurantsDelivery: False\\', \\'RestaurantsGoodForGroups: True\\', \\'RestaurantsPriceRange2: 2\\', \\'RestaurantsReservations: True\\', \\'RestaurantsTableService: True\\', \\'RestaurantsTakeOut: True\\', \\'WheelchairAccessible: True\\', \\'WiFi: free\\']',\n",
       " \"['Mexican', 'Restaurants']\",\n",
       " 'Scottsdale',\n",
       " '480',\n",
       " 'Cien Agaves Tacos & Tequila',\n",
       " '-111.9253409',\n",
       " 'AZ',\n",
       " '3.5',\n",
       " '33.4943986',\n",
       " '85251',\n",
       " 'business')"
      ]
     },
     "execution_count": 329,
     "metadata": {},
     "output_type": "execute_result"
    }
   ],
   "source": [
    "business_train[1:len(business_train)][0]"
   ]
  },
  {
   "cell_type": "markdown",
   "metadata": {},
   "source": [
    "### b) yelp_academic_dataset_checkin_train.txt"
   ]
  },
  {
   "cell_type": "code",
   "execution_count": 10,
   "metadata": {
    "collapsed": false
   },
   "outputs": [],
   "source": [
    "checkin_train = []\n",
    "with open('/Users/chin/Yelp Reviews/data/yelp_academic_dataset_checkin.csv',encoding=\"utf8\") as f:\n",
    "    reader = csv.reader(f, delimiter=',')\n",
    "    for line in reader:\n",
    "        checkin_train.append(tuple(line))"
   ]
  },
  {
   "cell_type": "code",
   "execution_count": 11,
   "metadata": {
    "collapsed": false
   },
   "outputs": [
    {
     "data": {
      "text/plain": [
       "2878"
      ]
     },
     "execution_count": 11,
     "metadata": {},
     "output_type": "execute_result"
    }
   ],
   "source": [
    "len(checkin_train)"
   ]
  },
  {
   "cell_type": "code",
   "execution_count": 12,
   "metadata": {
    "collapsed": false
   },
   "outputs": [
    {
     "data": {
      "text/plain": [
       "('', 'time', 'type', 'business_id')"
      ]
     },
     "execution_count": 12,
     "metadata": {},
     "output_type": "execute_result"
    }
   ],
   "source": [
    "checkin_train[0]"
   ]
  },
  {
   "cell_type": "code",
   "execution_count": 13,
   "metadata": {
    "collapsed": false
   },
   "outputs": [
    {
     "data": {
      "text/plain": [
       "('402',\n",
       " \"['Fri-0:5', 'Mon-0:3', 'Sun-0:2', 'Thu-0:4', 'Tue-0:1', 'Wed-0:4', 'Fri-1:3', 'Mon-1:1', 'Sat-1:1', 'Sun-1:4', 'Thu-1:6', 'Tue-1:2', 'Wed-1:4', 'Sun-2:1', 'Tue-2:3', 'Mon-3:1', 'Fri-4:1', 'Tue-4:1', 'Tue-7:1', 'Fri-9:31', 'Mon-9:53', 'Sat-9:27', 'Sun-9:29', 'Thu-9:37', 'Tue-9:37', 'Wed-9:37', 'Fri-10:42', 'Mon-10:27', 'Sat-10:36', 'Sun-10:33', 'Thu-10:35', 'Tue-10:38', 'Wed-10:31', 'Fri-11:10', 'Mon-11:5', 'Sat-11:18', 'Sun-11:16', 'Thu-11:8', 'Tue-11:4', 'Wed-11:11', 'Fri-12:1', 'Mon-12:3', 'Sat-12:3', 'Sun-12:9', 'Thu-12:7', 'Tue-12:5', 'Wed-12:6', 'Fri-13:2', 'Mon-13:2', 'Sat-13:4', 'Sun-13:8', 'Thu-13:4', 'Tue-13:3', 'Wed-13:3', 'Fri-14:2', 'Mon-14:3', 'Sat-14:8', 'Sun-14:12', 'Thu-14:2', 'Tue-14:5', 'Wed-14:3', 'Fri-15:4', 'Mon-15:4', 'Sat-15:11', 'Sun-15:6', 'Thu-15:8', 'Tue-15:2', 'Wed-15:6', 'Fri-16:4', 'Mon-16:3', 'Sat-16:6', 'Sun-16:10', 'Thu-16:6', 'Tue-16:3', 'Wed-16:3', 'Mon-17:3', 'Sat-17:6', 'Sun-17:15', 'Thu-17:3', 'Tue-17:4', 'Wed-17:5', 'Fri-18:3', 'Mon-18:3', 'Sat-18:4', 'Sun-18:15', 'Thu-18:3', 'Tue-18:1', 'Wed-18:4', 'Fri-19:4', 'Mon-19:10', 'Sat-19:5', 'Sun-19:8', 'Thu-19:4', 'Tue-19:7', 'Wed-19:3', 'Fri-20:5', 'Mon-20:12', 'Sat-20:4', 'Sun-20:3', 'Thu-20:14', 'Tue-20:1', 'Wed-20:7', 'Fri-21:8', 'Mon-21:6', 'Sat-21:3', 'Sun-21:5', 'Thu-21:5', 'Tue-21:4', 'Wed-21:2', 'Fri-22:2', 'Mon-22:2', 'Sat-22:4', 'Sun-22:2', 'Thu-22:3', 'Tue-22:1', 'Wed-22:6', 'Fri-23:5', 'Mon-23:2', 'Sat-23:6', 'Sun-23:2', 'Tue-23:4', 'Wed-23:9']\",\n",
       " 'checkin',\n",
       " 'bo3z3-WUNblcRKRrWqeTAg')"
      ]
     },
     "execution_count": 13,
     "metadata": {},
     "output_type": "execute_result"
    }
   ],
   "source": [
    "checkin_train[1]"
   ]
  },
  {
   "cell_type": "markdown",
   "metadata": {},
   "source": [
    "### c) yelp_academic_dataset_review_train.csv"
   ]
  },
  {
   "cell_type": "code",
   "execution_count": 14,
   "metadata": {
    "collapsed": false
   },
   "outputs": [],
   "source": [
    "review_train = []\n",
    "with open('/Users/chin/Yelp Reviews/data/yelp_academic_dataset_review_train.csv',encoding=\"utf8\") as f:\n",
    "    reader = csv.reader(f, delimiter=',')\n",
    "    for line in reader:\n",
    "        review_train.append(tuple(line))"
   ]
  },
  {
   "cell_type": "code",
   "execution_count": 15,
   "metadata": {
    "collapsed": false
   },
   "outputs": [
    {
     "data": {
      "text/plain": [
       "116475"
      ]
     },
     "execution_count": 15,
     "metadata": {},
     "output_type": "execute_result"
    }
   ],
   "source": [
    "len(review_train)"
   ]
  },
  {
   "cell_type": "code",
   "execution_count": 16,
   "metadata": {
    "collapsed": false
   },
   "outputs": [
    {
     "data": {
      "text/plain": [
       "True"
      ]
     },
     "execution_count": 16,
     "metadata": {},
     "output_type": "execute_result"
    }
   ],
   "source": [
    "len(review_train[0]) == len(review_train[1]) "
   ]
  },
  {
   "cell_type": "code",
   "execution_count": 17,
   "metadata": {
    "collapsed": false
   },
   "outputs": [
    {
     "data": {
      "text/plain": [
       "('',\n",
       " 'funny',\n",
       " 'user_id',\n",
       " 'review_id',\n",
       " 'text',\n",
       " 'business_id',\n",
       " 'stars',\n",
       " 'date',\n",
       " 'useful',\n",
       " 'type',\n",
       " 'cool')"
      ]
     },
     "execution_count": 17,
     "metadata": {},
     "output_type": "execute_result"
    }
   ],
   "source": [
    "review_train[0]"
   ]
  },
  {
   "cell_type": "code",
   "execution_count": 18,
   "metadata": {
    "collapsed": false
   },
   "outputs": [
    {
     "data": {
      "text/plain": [
       "('2546',\n",
       " '1',\n",
       " '_5FF5NN5kHZmGTNuJwpnhg',\n",
       " 'egN-7YtD9vAfOsSqdsGwlQ',\n",
       " \"I almost got sick on all of the chocolate coffee beans in this place, they are so good.  I sat outside and had a great conversation about the direction music is taking in this day in age.  If you don't follow a formula it seems that you can't get a record contract, even in the indie scene.  As you can tell, I thoroughly enjoyed the crowd here.  \\n\\nInside there is a bar opposite the coffee line with Creative Loafing and other local newspapers to read, as well as chocolate coffee beans in little quarter machines.  Don't mix these with a strong cup of coffee or you will be jumping off the walls.\",\n",
       " 'F1tOtPzcsQk8PqNOatVsCg',\n",
       " '3',\n",
       " '2008-09-11',\n",
       " '0',\n",
       " 'review',\n",
       " '0')"
      ]
     },
     "execution_count": 18,
     "metadata": {},
     "output_type": "execute_result"
    }
   ],
   "source": [
    "review_train[1]"
   ]
  },
  {
   "cell_type": "markdown",
   "metadata": {},
   "source": [
    "### d) yelp_academic_dataset_tip_train.txt"
   ]
  },
  {
   "cell_type": "code",
   "execution_count": 20,
   "metadata": {
    "collapsed": false
   },
   "outputs": [],
   "source": [
    "tip_train = []\n",
    "with open('/Users/chin/Yelp Reviews/data/yelp_academic_dataset_tip.csv',encoding=\"utf8\") as f:\n",
    "    reader = csv.reader(f, delimiter=',')\n",
    "    for line in reader:\n",
    "        tip_train.append(tuple(line))"
   ]
  },
  {
   "cell_type": "code",
   "execution_count": 21,
   "metadata": {
    "collapsed": false
   },
   "outputs": [
    {
     "data": {
      "text/plain": [
       "27302"
      ]
     },
     "execution_count": 21,
     "metadata": {},
     "output_type": "execute_result"
    }
   ],
   "source": [
    "len(tip_train)"
   ]
  },
  {
   "cell_type": "code",
   "execution_count": 22,
   "metadata": {
    "collapsed": false
   },
   "outputs": [
    {
     "data": {
      "text/plain": [
       "('', 'user_id', 'text', 'business_id', 'likes', 'date', 'type')"
      ]
     },
     "execution_count": 22,
     "metadata": {},
     "output_type": "execute_result"
    }
   ],
   "source": [
    "tip_train[0]"
   ]
  },
  {
   "cell_type": "code",
   "execution_count": 23,
   "metadata": {
    "collapsed": false
   },
   "outputs": [
    {
     "data": {
      "text/plain": [
       "('87',\n",
       " 'QGgWWhEi5R4SLAKN-xwtNQ',\n",
       " 'The salsa is delicious... Plan to eat a lot!',\n",
       " 'xUvgrDdKhcmaP6Zv0ssb6A',\n",
       " '0',\n",
       " '2014-03-07',\n",
       " 'tip')"
      ]
     },
     "execution_count": 23,
     "metadata": {},
     "output_type": "execute_result"
    }
   ],
   "source": [
    "tip_train[1]"
   ]
  },
  {
   "cell_type": "markdown",
   "metadata": {},
   "source": [
    "### e) yelp_academic_dataset_user.csv"
   ]
  },
  {
   "cell_type": "code",
   "execution_count": 24,
   "metadata": {
    "collapsed": false
   },
   "outputs": [],
   "source": [
    "user = []\n",
    "with open('/Users/chin/Yelp Reviews/data/yelp_academic_dataset_user.csv',encoding=\"utf8\") as f:\n",
    "    reader = csv.reader(f, delimiter=',',quoting=csv.QUOTE_NONE)\n",
    "    for line in reader:\n",
    "        user.append(tuple(line))"
   ]
  },
  {
   "cell_type": "code",
   "execution_count": 30,
   "metadata": {
    "collapsed": true
   },
   "outputs": [],
   "source": [
    "## Data analysis"
   ]
  },
  {
   "cell_type": "code",
   "execution_count": 1,
   "metadata": {
    "collapsed": false
   },
   "outputs": [
    {
     "ename": "NameError",
     "evalue": "name 'pd' is not defined",
     "output_type": "error",
     "traceback": [
      "\u001b[0;31m---------------------------------------------------------------------------\u001b[0m",
      "\u001b[0;31mNameError\u001b[0m                                 Traceback (most recent call last)",
      "\u001b[0;32m<ipython-input-1-cc347e5b2098>\u001b[0m in \u001b[0;36m<module>\u001b[0;34m()\u001b[0m\n\u001b[0;32m----> 1\u001b[0;31m \u001b[0mdf\u001b[0m \u001b[1;33m=\u001b[0m \u001b[0mpd\u001b[0m\u001b[1;33m.\u001b[0m\u001b[0mread_csv\u001b[0m\u001b[1;33m(\u001b[0m\u001b[1;34m'/Users/chin/Yelp Reviews/data/yelp_academic_dataset_business_train.csv'\u001b[0m\u001b[1;33m)\u001b[0m\u001b[1;33m\u001b[0m\u001b[0m\n\u001b[0m",
      "\u001b[0;31mNameError\u001b[0m: name 'pd' is not defined"
     ]
    }
   ],
   "source": [
    "df = pd.read_csv('/Users/chin/Yelp Reviews/data/yelp_academic_dataset_business_train.csv')"
   ]
  },
  {
   "cell_type": "code",
   "execution_count": null,
   "metadata": {
    "collapsed": false
   },
   "outputs": [],
   "source": [
    "df = df.dropna(subset=['attributes'])"
   ]
  },
  {
   "cell_type": "code",
   "execution_count": null,
   "metadata": {
    "collapsed": false
   },
   "outputs": [],
   "source": [
    "def fixdata(df):\n",
    "    words = {\n",
    "    \"no\" : 0, \"False\":0, \"free\":1, \"full_bar\": 1, \"casual\": 0, \"True\":1, \"none\": 0, \"beer_and_wine\" : 1,\"yes_free\":1, \n",
    "    \"average\":1,\"loud\":.75,\"quiet\":1,\"very_loud\":0,\"yes\":1,\"outdoor\":1,\"paid\":0.5, \"dressy\":1,'1':1,\"2\":2,\"3\":3,\"4\":4,\n",
    "    \"yes_corkage\":1, \"formal\":1}\n",
    "    for i in df.index:\n",
    "        dicl = dictionize(df['attributes'][[i]][i], \"_\")\n",
    "        for j in dicl.keys():\n",
    "            if j in df.columns:\n",
    "                if type(dicl[j]) == int:\n",
    "                    k = dicl[j]\n",
    "                else:\n",
    "                    k = words[dicl[j]]\n",
    "                    \n",
    "                df.set_value(i,j,k)\n",
    "            else:\n",
    "                df[j] = np.zeros(df.shape[0])\n",
    "    return df\n"
   ]
  },
  {
   "cell_type": "code",
   "execution_count": null,
   "metadata": {
    "collapsed": true
   },
   "outputs": [],
   "source": [
    "def fixdata2(df):\n",
    "    words = {\n",
    "    \"no\" : 0, \"False\":0, \"free\":1, \"full_bar\": 1, \"casual\": 0, \"True\":1, \"none\": 0, \"beer_and_wine\" : 1,\"yes_free\":1, \n",
    "    \"average\":1,\"loud\":.75,\"quiet\":1,\"very_loud\":0,\"yes\":1,\"outdoor\":1,\"paid\":0.5, \"dressy\":1,'1':1,\"2\":2,\"3\":3,\"4\":4,\n",
    "    \"yes_corkage\":1, \"formal\":1}\n",
    "    for i in df.index:\n",
    "        dicl = dictionize(df['attributes'][[i]][i], \"_\")\n",
    "        for j in dicl.keys():\n",
    "            k = dicl[j]\n",
    "            if j in df.columns:\n",
    "                df.set_value(i,j,k)\n",
    "            else:\n",
    "                df[j] = list(\"0\" for i in range(0,df.shape[0]))\n",
    "                df.set_value(i,j,k)\n",
    "    return df"
   ]
  },
  {
   "cell_type": "code",
   "execution_count": null,
   "metadata": {
    "collapsed": false
   },
   "outputs": [],
   "source": [
    "def dictionize(column,delim):\n",
    "    val = {}\n",
    "    lst = column[1:-1].split(\",\")\n",
    "    contains2 = 0\n",
    "    for j in range(0,len(lst)):\n",
    "        lst2 = lst[j].split(\": \")\n",
    "        first_contains = 0\n",
    "        for k in range(0, len(lst2)):\n",
    "            if '{' in lst2[k]:\n",
    "                first_contains = 1\n",
    "                contains2 = 1\n",
    "                keep = stripignore(lst2[0])\n",
    "            elif '}' in lst2[k]:\n",
    "                contains2 = 0\n",
    "            else:\n",
    "                k = 9\n",
    "        if first_contains == 1:\n",
    "            val[keep + delim + stripignore(lst2[1])] = stripignore(lst2[2])\n",
    "        elif contains2 == 1:\n",
    "            val[keep + delim + stripignore(lst2[0])] = stripignore(lst2[1])\n",
    "        else:\n",
    "            if '}' in lst2[1]:\n",
    "                val[keep + delim + stripignore(lst2[0])] = stripignore(lst2[1]) \n",
    "            else:\n",
    "                val[stripignore(lst2[0])] = stripignore(lst2[1])\n",
    "    return val\n",
    "\n",
    "                "
   ]
  },
  {
   "cell_type": "code",
   "execution_count": null,
   "metadata": {
    "collapsed": false
   },
   "outputs": [],
   "source": [
    "def stripignore(string):\n",
    "    new_string =\"\"\n",
    "    ignore = ['\"',' ', '{',\"'\", '}']\n",
    "    for i in range(0,len(string)):\n",
    "        if string[i] in ignore:\n",
    "            k = 9\n",
    "        else:\n",
    "            new_string = new_string + string[i]\n",
    "    return(new_string)\n",
    "        "
   ]
  },
  {
   "cell_type": "code",
   "execution_count": null,
   "metadata": {
    "collapsed": false
   },
   "outputs": [],
   "source": [
    "new_df = fixdata2(df)\n",
    "new_df"
   ]
  },
  {
   "cell_type": "code",
   "execution_count": null,
   "metadata": {
    "collapsed": false
   },
   "outputs": [],
   "source": [
    "new_df.columns"
   ]
  },
  {
   "cell_type": "code",
   "execution_count": null,
   "metadata": {
    "collapsed": false
   },
   "outputs": [],
   "source": [
    "new_df.shape"
   ]
  },
  {
   "cell_type": "code",
   "execution_count": null,
   "metadata": {
    "collapsed": false
   },
   "outputs": [],
   "source": [
    "new_df.describe()"
   ]
  },
  {
   "cell_type": "code",
   "execution_count": null,
   "metadata": {
    "collapsed": false
   },
   "outputs": [],
   "source": [
    "new_df.groupby('Alcohol').aggregate(len)['hours'][0]"
   ]
  },
  {
   "cell_type": "code",
   "execution_count": null,
   "metadata": {
    "collapsed": true
   },
   "outputs": [],
   "source": [
    "def percent_reporting(frame,start):\n",
    "    store = {}\n",
    "    for i in frame.columns[17:len(frame.columns)]:       \n",
    "        summary = frame.groupby(i).aggregate(len)\n",
    "        store[i] = 1 - summary['hours'][0]/len(frame)\n",
    "    return(pd.Series(store))"
   ]
  },
  {
   "cell_type": "code",
   "execution_count": null,
   "metadata": {
    "collapsed": true
   },
   "outputs": [],
   "source": [
    "dicl = dictionize(df['attributes'][[0]][0], \"_\")"
   ]
  },
  {
   "cell_type": "code",
   "execution_count": null,
   "metadata": {
    "collapsed": true
   },
   "outputs": [],
   "source": [
    "def drop_columns(frame, threshold, begin):\n",
    "    hi = percent_reporting(frame,begin)\n",
    "    choose = pd.Series({i:1 for i in frame.columns[0:begin]})\n",
    "    choose = choose.append(hi)\n",
    "    choose2 = choose > threshold\n",
    "    for i in frame.columns:\n",
    "        if i not in choose2[choose2]:\n",
    "            frame.drop(i, axis=1, inplace=True)\n",
    "    return(frame)"
   ]
  },
  {
   "cell_type": "code",
   "execution_count": 215,
   "metadata": {
    "collapsed": false
   },
   "outputs": [],
   "source": [
    "new_df2 = drop_columns(new_df,.58,17)"
   ]
  },
  {
   "cell_type": "markdown",
   "metadata": {},
   "source": [
    "We want only the columns that have at least 60% of the data reporting: Therefore, we will drop many of the columns."
   ]
  },
  {
   "cell_type": "markdown",
   "metadata": {},
   "source": [
    "new_df2.drop('Unnamed: 0', axis=1, inplace=True)\n",
    "new_df2.drop('neighborhood', axis=1, inplace=True)\n",
    "new_df2.drop('hours', axis=1, inplace=True)\n",
    "new_df2.drop('address', axis=1, inplace=True)\n",
    "new_df2.drop('city', axis=1, inplace=True)\n",
    "new_df2.drop('name', axis=1, inplace=True)\n",
    "new_df2.drop('state', axis=1, inplace=True)\n",
    "new_df2.drop('longitude', axis=1, inplace=True)\n",
    "new_df2.drop('latitude', axis=1, inplace=True)"
   ]
  },
  {
   "cell_type": "code",
   "execution_count": 231,
   "metadata": {
    "collapsed": false
   },
   "outputs": [
    {
     "data": {
      "text/plain": [
       "Index(['Alcohol', 'Ambience_romantic', 'Ambience_intimate', 'Ambience_classy',\n",
       "       'Ambience_hipster', 'Ambience_divey', 'Ambience_touristy',\n",
       "       'Ambience_trendy', 'Ambience_upscale', 'Ambience_casual', 'BikeParking',\n",
       "       'BusinessAcceptsCreditCards', 'BusinessParking_garage',\n",
       "       'BusinessParking_street', 'BusinessParking_validated',\n",
       "       'BusinessParking_lot', 'BusinessParking_valet', 'GoodForKids',\n",
       "       'GoodForMeal_dessert', 'GoodForMeal_latenight', 'GoodForMeal_lunch',\n",
       "       'GoodForMeal_dinner', 'GoodForMeal_breakfast', 'GoodForMeal_brunch',\n",
       "       'HasTV', 'OutdoorSeating', 'RestaurantsAttire', 'RestaurantsDelivery',\n",
       "       'RestaurantsGoodForGroups', 'RestaurantsPriceRange2',\n",
       "       'RestaurantsReservations', 'RestaurantsTableService',\n",
       "       'RestaurantsTakeOut', 'WiFi'],\n",
       "      dtype='object')"
      ]
     },
     "execution_count": 231,
     "metadata": {},
     "output_type": "execute_result"
    }
   ],
   "source": [
    "new_df2.columns[17:51]"
   ]
  },
  {
   "cell_type": "code",
   "execution_count": 249,
   "metadata": {
    "collapsed": false
   },
   "outputs": [],
   "source": [
    "def chin_dummies(frame, keyword1, keyword2,drop_list):\n",
    "    frame = pd.get_dummies(frame, columns = frame.columns[frame.columns.get_loc(keyword1):frame.columns.get_loc(keyword2)])\n",
    "    frame = drop_columns2(frame, drop_list)\n",
    "    return(frame)"
   ]
  },
  {
   "cell_type": "code",
   "execution_count": 250,
   "metadata": {
    "collapsed": true
   },
   "outputs": [],
   "source": [
    "def drop_columns2(frame,drop_list):\n",
    "    for i in frame.columns:\n",
    "        if i in drop_list:\n",
    "            frame.drop(i, axis=1, inplace=True)\n",
    "    return(frame)"
   ]
  },
  {
   "cell_type": "code",
   "execution_count": 251,
   "metadata": {
    "collapsed": false
   },
   "outputs": [],
   "source": [
    "new_df3 = chin_dummies(new_df2, \"Alcohol\",\"WiFi\",new_df2.columns[17:51])"
   ]
  },
  {
   "cell_type": "code",
   "execution_count": 253,
   "metadata": {
    "collapsed": false
   },
   "outputs": [
    {
     "data": {
      "text/plain": [
       "False"
      ]
     },
     "execution_count": 253,
     "metadata": {},
     "output_type": "execute_result"
    }
   ],
   "source": [
    "\"WiFi\" in new_df3.columns"
   ]
  },
  {
   "cell_type": "code",
   "execution_count": null,
   "metadata": {
    "collapsed": true
   },
   "outputs": [],
   "source": []
  }
 ],
 "metadata": {
  "anaconda-cloud": {},
  "kernelspec": {
   "display_name": "Python [default]",
   "language": "python",
   "name": "python3"
  },
  "language_info": {
   "codemirror_mode": {
    "name": "ipython",
    "version": 3
   },
   "file_extension": ".py",
   "mimetype": "text/x-python",
   "name": "python",
   "nbconvert_exporter": "python",
   "pygments_lexer": "ipython3",
   "version": "3.5.2"
  }
 },
 "nbformat": 4,
 "nbformat_minor": 1
}
